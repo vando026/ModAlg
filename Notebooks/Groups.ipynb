{
 "cells": [
  {
   "cell_type": "markdown",
   "id": "f586d3b2-2365-453e-ab46-3938fbbd5429",
   "metadata": {},
   "source": [
    "# Contemporary Abstract Algebra [Gallian]"
   ]
  },
  {
   "cell_type": "code",
   "execution_count": 2,
   "id": "6d6236aa-800e-4fda-b85a-46ac92315879",
   "metadata": {},
   "outputs": [],
   "source": [
    "from modalg.groups import U, Z"
   ]
  },
  {
   "cell_type": "markdown",
   "id": "fe01f4eb-c301-4d06-aa71-37adc4b4f4c3",
   "metadata": {},
   "source": [
    "### Chapter 4: Cyclic groups\n",
    "\n",
    "A group $G$ is cyclic if there is an element $a$ in $G$ such that $G = \\{a | n \\in Z\\}$. Such an element $a$ is called a generator: $G = \\langle a\\rangle$. "
   ]
  },
  {
   "cell_type": "code",
   "execution_count": 5,
   "id": "13fbecc2-ac11-47eb-8199-3d27d6abd81e",
   "metadata": {},
   "outputs": [
    {
     "name": "stdout",
     "output_type": "stream",
     "text": [
      "Elements of U10:\n",
      "[1, 3, 7, 9]\n",
      "Order of U10:\n",
      "4\n",
      "The elements of <3>:\n"
     ]
    },
    {
     "data": {
      "text/plain": [
       "[1, 3, 9, 7]"
      ]
     },
     "execution_count": 5,
     "metadata": {},
     "output_type": "execute_result"
    }
   ],
   "source": [
    "# Example 4\n",
    "U10 = U(10)\n",
    "print(\"Elements of U10:\")\n",
    "print(U10.unit_group())\n",
    "print(\"Order of U10:\")\n",
    "print(U10.order())\n",
    "U10.cyclic(3, mod = False)\n",
    "print(\"The elements of <3>:\")\n",
    "U10.cyclic(3)"
   ]
  }
 ],
 "metadata": {
  "kernelspec": {
   "display_name": "Python 3 (ipykernel)",
   "language": "python",
   "name": "python3"
  },
  "language_info": {
   "codemirror_mode": {
    "name": "ipython",
    "version": 3
   },
   "file_extension": ".py",
   "mimetype": "text/x-python",
   "name": "python",
   "nbconvert_exporter": "python",
   "pygments_lexer": "ipython3",
   "version": "3.12.3"
  }
 },
 "nbformat": 4,
 "nbformat_minor": 5
}
